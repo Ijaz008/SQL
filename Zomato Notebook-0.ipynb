{
    "metadata": {
        "kernelspec": {
            "name": "SQL",
            "display_name": "SQL",
            "language": "sql"
        },
        "language_info": {
            "name": "sql",
            "version": ""
        }
    },
    "nbformat_minor": 2,
    "nbformat": 4,
    "cells": [
        {
            "cell_type": "code",
            "source": [
                "CREATE TABLE goldusers_signup(userid integer,gold_signup_date date);\n",
                "INSERT INTO goldusers_signup(userid,gold_signup_date) \n",
                "VALUES (1,'09-22-2017'),\n",
                "       (3,'04-21-2017');\n",
                "\n",
                "select * from goldusers_signup;\n",
                "\n",
                "CREATE TABLE users(userid integer,signup_date date); \n",
                "INSERT INTO users(userid,signup_date) \n",
                " VALUES (1,'09-02-2014'),\n",
                "        (2,'01-15-2015'),\n",
                "        (3,'04-11-2014');\n",
                "\n",
                "        select * from users;\n",
                "\n",
                "CREATE TABLE sales(userid integer,created_date date,product_id integer); \n",
                "\n",
                "INSERT INTO sales(userid,created_date,product_id) \n",
                " VALUES (1,'04-19-2017',2),\n",
                "(3,'12-18-2019',1),\n",
                "(2,'07-20-2020',3),\n",
                "(1,'10-23-2019',2),\n",
                "(1,'03-19-2018',3),\n",
                "(3,'12-20-2016',2),\n",
                "(1,'11-09-2016',1),\n",
                "(1,'05-20-2016',3),\n",
                "(2,'09-24-2017',1),\n",
                "(1,'03-11-2017',2),\n",
                "(1,'03-11-2016',1),\n",
                "(3,'11-10-2016',1),\n",
                "(3,'12-07-2017',2),\n",
                "(3,'12-15-2016',2),\n",
                "(2,'11-08-2017',2),\n",
                "(2,'09-10-2018',3);\n",
                "\n",
                "select * from sales;\n",
                "\n",
                "CREATE TABLE product(product_id integer,product_name text,price integer); \n",
                "\n",
                "INSERT INTO product(product_id,product_name,price) \n",
                " VALUES\n",
                "(1,'p1',980),\n",
                "(2,'p2',870),\n",
                "(3,'p3',330);\n",
                "\n",
                "select * from sales;\n",
                "select * from product;\n",
                "select * from goldusers_signup;\n",
                "select * from users;\n",
                "\n",
                "--What is the total amount each customer spent on Zomato--\n",
                "\n",
                "select s.userid,sum(p.price) as total_spend from sales s inner join product p on p.product_id=s.product_id group by userid;\n",
                "\n",
                "--how many days has each customer visited Zomato?--\n",
                "\n",
                "select count(distinct created_date) as Daily_Visit_counts,userid from sales group by userid;\n",
                "\n",
                "--What was the first product purchased by each of the customer--\n",
                "\n",
                "select * from (select *,rank() over(partition by userid order by created_date) rnk from sales) a where rnk=1;\n",
                "\n",
                "--What is the most purchased product on the menu and how many times it was sold?--\n",
                "\n",
                "select userid,count(product_id) as cnt from sales \n",
                "where product_id=(select top 1 product_id  from sales group by product_id order by count(product_id) desc) group by userid;\n",
                "\n",
                "-- Which product is each customer's favourite--\n",
                "\n",
                "select * from\n",
                "(select *,rank() over(partition by userid order by cnt desc) as rnk from \n",
                "(select userid,product_id, count(product_id) as cnt from sales group by userid,product_id) a) b where rnk=1;"
            ],
            "metadata": {
                "azdata_cell_guid": "1b42de1c-bdeb-42ac-8b39-74dd851ab18b",
                "language": "sql"
            },
            "outputs": [
                {
                    "output_type": "error",
                    "evalue": "Msg 2714, Level 16, State 6, Line 1\nThere is already an object named 'goldusers_signup' in the database.",
                    "ename": "",
                    "traceback": []
                },
                {
                    "output_type": "display_data",
                    "data": {
                        "text/html": "Total execution time: 00:00:00.022"
                    },
                    "metadata": {}
                }
            ],
            "execution_count": 1
        }
    ]
}